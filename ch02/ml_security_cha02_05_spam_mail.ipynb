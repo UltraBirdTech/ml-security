{
  "nbformat": 4,
  "nbformat_minor": 0,
  "metadata": {
    "colab": {
      "name": "ml-security_cha02-05-spam-mail.ipynb",
      "provenance": [],
      "authorship_tag": "ABX9TyMazObDpzlPOL01/P+bWR/F",
      "include_colab_link": true
    },
    "kernelspec": {
      "name": "python3",
      "display_name": "Python 3"
    },
    "language_info": {
      "name": "python"
    }
  },
  "cells": [
    {
      "cell_type": "markdown",
      "metadata": {
        "id": "view-in-github",
        "colab_type": "text"
      },
      "source": [
        "<a href=\"https://colab.research.google.com/github/UltraBirdTech/ml-security/blob/master/ch02/ml_security_cha02_05_spam_mail.ipynb\" target=\"_parent\"><img src=\"https://colab.research.google.com/assets/colab-badge.svg\" alt=\"Open In Colab\"/></a>"
      ]
    },
    {
      "cell_type": "code",
      "execution_count": 17,
      "metadata": {
        "colab": {
          "base_uri": "https://localhost:8080/"
        },
        "id": "_LqmQFqUO-gG",
        "outputId": "5802ee2c-f86c-4437-94c9-de80cc2801fe"
      },
      "outputs": [
        {
          "output_type": "stream",
          "name": "stdout",
          "text": [
            "--2022-02-26 08:02:09--  https://github.com/oreilly-japan/ml-security-jp/raw/master/ch02/enron1.zip\n",
            "Resolving github.com (github.com)... 192.30.255.113\n",
            "Connecting to github.com (github.com)|192.30.255.113|:443... connected.\n",
            "HTTP request sent, awaiting response... 302 Found\n",
            "Location: https://raw.githubusercontent.com/oreilly-japan/ml-security-jp/master/ch02/enron1.zip [following]\n",
            "--2022-02-26 08:02:09--  https://raw.githubusercontent.com/oreilly-japan/ml-security-jp/master/ch02/enron1.zip\n",
            "Resolving raw.githubusercontent.com (raw.githubusercontent.com)... 185.199.110.133, 185.199.108.133, 185.199.109.133, ...\n",
            "Connecting to raw.githubusercontent.com (raw.githubusercontent.com)|185.199.110.133|:443... connected.\n",
            "HTTP request sent, awaiting response... 200 OK\n",
            "Length: 3597958 (3.4M) [application/zip]\n",
            "Saving to: ‘enron1.zip’\n",
            "\n",
            "\renron1.zip            0%[                    ]       0  --.-KB/s               \renron1.zip          100%[===================>]   3.43M  --.-KB/s    in 0.05s   \n",
            "\n",
            "2022-02-26 08:02:09 (71.2 MB/s) - ‘enron1.zip’ saved [3597958/3597958]\n",
            "\n",
            "replace enron1/spam/2967.2004-11-28.GP.spam.txt? [y]es, [n]o, [A]ll, [N]one, [r]ename: \n",
            "error:  invalid response [{ENTER}]\n",
            "replace enron1/spam/2967.2004-11-28.GP.spam.txt? [y]es, [n]o, [A]ll, [N]one, [r]ename: y\n",
            "replace enron1/spam/3787.2005-02-10.GP.spam.txt? [y]es, [n]o, [A]ll, [N]one, [r]ename: y\n",
            "replace enron1/spam/1711.2004-07-26.GP.spam.txt? [y]es, [n]o, [A]ll, [N]one, [r]ename: y\n",
            "replace enron1/spam/1825.2004-08-14.GP.spam.txt? [y]es, [n]o, [A]ll, [N]one, [r]ename: y\n",
            "replace enron1/spam/1503.2004-07-07.GP.spam.txt? [y]es, [n]o, [A]ll, [N]one, [r]ename: y\n",
            "replace enron1/spam/1400.2004-06-21.GP.spam.txt? [y]es, [n]o, [A]ll, [N]one, [r]ename: y\n",
            "replace enron1/spam/0622.2004-03-09.GP.spam.txt? [y]es, [n]o, [A]ll, [N]one, [r]ename: y\n",
            "replace enron1/spam/2452.2004-10-09.GP.spam.txt? [y]es, [n]o, [A]ll, [N]one, [r]ename: y\n",
            "replace enron1/spam/0202.2004-01-13.GP.spam.txt? [y]es, [n]o, [A]ll, [N]one, [r]ename: \n",
            "error:  invalid response [{ENTER}]\n",
            "replace enron1/spam/0202.2004-01-13.GP.spam.txt? [y]es, [n]o, [A]ll, [N]one, [r]ename: \n",
            "error:  invalid response [{ENTER}]\n",
            "replace enron1/spam/0202.2004-01-13.GP.spam.txt? [y]es, [n]o, [A]ll, [N]one, [r]ename: \n",
            "error:  invalid response [{ENTER}]\n",
            "replace enron1/spam/0202.2004-01-13.GP.spam.txt? [y]es, [n]o, [A]ll, [N]one, [r]ename: \n",
            "error:  invalid response [{ENTER}]\n",
            "replace enron1/spam/0202.2004-01-13.GP.spam.txt? [y]es, [n]o, [A]ll, [N]one, [r]ename: A\n",
            "total 3536\n",
            "drwxr-xr-x 1 root root    4096 Feb 26 08:02 .\n",
            "drwxr-xr-x 1 root root    4096 Feb 26 07:51 ..\n",
            "drwxr-xr-x 4 root root    4096 Feb 18 14:33 .config\n",
            "drwx------ 4 root root    4096 Feb 26 08:02 enron1\n",
            "-rw-r--r-- 1 root root 3597958 Feb 26 08:02 enron1.zip\n",
            "drwxr-xr-x 1 root root    4096 Feb 18 14:33 sample_data\n",
            "total 316\n",
            "drwx------ 4 root root   4096 Feb 26 08:02 .\n",
            "drwxr-xr-x 1 root root   4096 Feb 26 08:02 ..\n",
            "drwx------ 2 root root 233472 Feb 26 08:02 ham\n",
            "drwx------ 2 root root  73728 Feb 26 08:02 spam\n",
            "-rwx------ 1 root root    430 Oct 29  2005 Summary.txt\n",
            "Requirement already satisfied: optuna in /usr/local/lib/python3.7/dist-packages (2.10.0)\n",
            "Requirement already satisfied: numpy in /usr/local/lib/python3.7/dist-packages (from optuna) (1.21.5)\n",
            "Requirement already satisfied: tqdm in /usr/local/lib/python3.7/dist-packages (from optuna) (4.62.3)\n",
            "Requirement already satisfied: cliff in /usr/local/lib/python3.7/dist-packages (from optuna) (3.10.1)\n",
            "Requirement already satisfied: cmaes>=0.8.2 in /usr/local/lib/python3.7/dist-packages (from optuna) (0.8.2)\n",
            "Requirement already satisfied: colorlog in /usr/local/lib/python3.7/dist-packages (from optuna) (6.6.0)\n",
            "Requirement already satisfied: alembic in /usr/local/lib/python3.7/dist-packages (from optuna) (1.7.6)\n",
            "Requirement already satisfied: packaging>=20.0 in /usr/local/lib/python3.7/dist-packages (from optuna) (21.3)\n",
            "Requirement already satisfied: scipy!=1.4.0 in /usr/local/lib/python3.7/dist-packages (from optuna) (1.4.1)\n",
            "Requirement already satisfied: PyYAML in /usr/local/lib/python3.7/dist-packages (from optuna) (3.13)\n",
            "Requirement already satisfied: sqlalchemy>=1.1.0 in /usr/local/lib/python3.7/dist-packages (from optuna) (1.4.31)\n",
            "Requirement already satisfied: pyparsing!=3.0.5,>=2.0.2 in /usr/local/lib/python3.7/dist-packages (from packaging>=20.0->optuna) (3.0.7)\n",
            "Requirement already satisfied: importlib-metadata in /usr/local/lib/python3.7/dist-packages (from sqlalchemy>=1.1.0->optuna) (4.11.1)\n",
            "Requirement already satisfied: greenlet!=0.4.17 in /usr/local/lib/python3.7/dist-packages (from sqlalchemy>=1.1.0->optuna) (1.1.2)\n",
            "Requirement already satisfied: importlib-resources in /usr/local/lib/python3.7/dist-packages (from alembic->optuna) (5.4.0)\n",
            "Requirement already satisfied: Mako in /usr/local/lib/python3.7/dist-packages (from alembic->optuna) (1.1.6)\n",
            "Requirement already satisfied: autopage>=0.4.0 in /usr/local/lib/python3.7/dist-packages (from cliff->optuna) (0.5.0)\n",
            "Requirement already satisfied: pbr!=2.1.0,>=2.0.0 in /usr/local/lib/python3.7/dist-packages (from cliff->optuna) (5.8.1)\n",
            "Requirement already satisfied: stevedore>=2.0.1 in /usr/local/lib/python3.7/dist-packages (from cliff->optuna) (3.5.0)\n",
            "Requirement already satisfied: PrettyTable>=0.7.2 in /usr/local/lib/python3.7/dist-packages (from cliff->optuna) (3.1.1)\n",
            "Requirement already satisfied: cmd2>=1.0.0 in /usr/local/lib/python3.7/dist-packages (from cliff->optuna) (2.4.0)\n",
            "Requirement already satisfied: pyperclip>=1.6 in /usr/local/lib/python3.7/dist-packages (from cmd2>=1.0.0->cliff->optuna) (1.8.2)\n",
            "Requirement already satisfied: attrs>=16.3.0 in /usr/local/lib/python3.7/dist-packages (from cmd2>=1.0.0->cliff->optuna) (21.4.0)\n",
            "Requirement already satisfied: wcwidth>=0.1.7 in /usr/local/lib/python3.7/dist-packages (from cmd2>=1.0.0->cliff->optuna) (0.2.5)\n",
            "Requirement already satisfied: typing-extensions in /usr/local/lib/python3.7/dist-packages (from cmd2>=1.0.0->cliff->optuna) (3.10.0.2)\n",
            "Requirement already satisfied: zipp>=0.5 in /usr/local/lib/python3.7/dist-packages (from importlib-metadata->sqlalchemy>=1.1.0->optuna) (3.7.0)\n",
            "Requirement already satisfied: MarkupSafe>=0.9.2 in /usr/local/lib/python3.7/dist-packages (from Mako->alembic->optuna) (2.0.1)\n"
          ]
        }
      ],
      "source": [
        "!rm enron1.zip*\n",
        "!wget https://github.com/oreilly-japan/ml-security-jp/raw/master/ch02/enron1.zip\n",
        "!unzip -q enron1.zip\n",
        "!ls -la\n",
        "!ls -la enron1\n",
        "!pip install optuna"
      ]
    },
    {
      "cell_type": "code",
      "source": [
        "from sklearn.metrics import accuracy_score\n",
        "from sklearn.model_selection import train_test_split\n",
        "import numpy as np\n",
        "import optuna\n",
        "from sklearn.model_selection import StratifiedKFold, cross_validate\n",
        "import os\n",
        "import codecs\n",
        "\n",
        "def init_lists(folder):\n",
        "    key_list = []\n",
        "    file_list = os.listdir(folder)\n",
        "    for filename in file_list:\n",
        "        f = codecs.open(folder + filename, 'r', encoding='utf8', errors='ignore')\n",
        "        key_list.append(f.read())\n",
        "    f.close()\n",
        "    return key_list\n",
        "\n",
        "all_mails = list()\n",
        "spam = init_lists('./enron1/spam/')\n",
        "ham = init_lists('./enron1/ham/')\n",
        "\n",
        "all_mails = [(mail, '1') for mail in spam]\n",
        "all_mails + [(mail, '0') for mail in ham]\n",
        "\n",
        "import pandas as pd\n",
        "df = pd.DataFrame(all_mails, columns=['text', 'label'])\n",
        "\n",
        "from sklearn.feature_extraction.text import TfidVectorizer\n",
        "tfidf = TfidVectorizer(stop_words=\"english\")\n",
        "X = tfidf.fit_transform(df['text'])\n",
        "column_names = tfidf.get_feature_names()\n",
        "\n",
        "X = pd.DataFrame(X.toarray())\n",
        "X = X.astype('float')\n",
        "\n",
        "X.columns = column_names\n",
        "y = df['label'].astype('float')\n",
        "\n"
      ],
      "metadata": {
        "colab": {
          "base_uri": "https://localhost:8080/",
          "height": 392
        },
        "id": "DVvp8nIFPiWe",
        "outputId": "1092e372-a33d-453d-c783-7cd729657861"
      },
      "execution_count": 20,
      "outputs": [
        {
          "output_type": "error",
          "ename": "ImportError",
          "evalue": "ignored",
          "traceback": [
            "\u001b[0;31m---------------------------------------------------------------------------\u001b[0m",
            "\u001b[0;31mImportError\u001b[0m                               Traceback (most recent call last)",
            "\u001b[0;32m<ipython-input-20-6fde658799ca>\u001b[0m in \u001b[0;36m<module>\u001b[0;34m()\u001b[0m\n\u001b[1;32m     26\u001b[0m \u001b[0mdf\u001b[0m \u001b[0;34m=\u001b[0m \u001b[0mpd\u001b[0m\u001b[0;34m.\u001b[0m\u001b[0mDataFrame\u001b[0m\u001b[0;34m(\u001b[0m\u001b[0mall_mails\u001b[0m\u001b[0;34m,\u001b[0m \u001b[0mcolumns\u001b[0m\u001b[0;34m=\u001b[0m\u001b[0;34m[\u001b[0m\u001b[0;34m'text'\u001b[0m\u001b[0;34m,\u001b[0m \u001b[0;34m'label'\u001b[0m\u001b[0;34m]\u001b[0m\u001b[0;34m)\u001b[0m\u001b[0;34m\u001b[0m\u001b[0;34m\u001b[0m\u001b[0m\n\u001b[1;32m     27\u001b[0m \u001b[0;34m\u001b[0m\u001b[0m\n\u001b[0;32m---> 28\u001b[0;31m \u001b[0;32mfrom\u001b[0m \u001b[0msklearn\u001b[0m\u001b[0;34m.\u001b[0m\u001b[0mfeature_extraction\u001b[0m\u001b[0;34m.\u001b[0m\u001b[0mtext\u001b[0m \u001b[0;32mimport\u001b[0m \u001b[0mTfidVectorizer\u001b[0m\u001b[0;34m\u001b[0m\u001b[0;34m\u001b[0m\u001b[0m\n\u001b[0m\u001b[1;32m     29\u001b[0m \u001b[0mtfidf\u001b[0m \u001b[0;34m=\u001b[0m \u001b[0mTfidVectorizer\u001b[0m\u001b[0;34m(\u001b[0m\u001b[0mstop_words\u001b[0m\u001b[0;34m=\u001b[0m\u001b[0;34m\"english\"\u001b[0m\u001b[0;34m)\u001b[0m\u001b[0;34m\u001b[0m\u001b[0;34m\u001b[0m\u001b[0m\n\u001b[1;32m     30\u001b[0m \u001b[0mX\u001b[0m \u001b[0;34m=\u001b[0m \u001b[0mtfidf\u001b[0m\u001b[0;34m.\u001b[0m\u001b[0mfit_transform\u001b[0m\u001b[0;34m(\u001b[0m\u001b[0mdf\u001b[0m\u001b[0;34m[\u001b[0m\u001b[0;34m'text'\u001b[0m\u001b[0;34m]\u001b[0m\u001b[0;34m)\u001b[0m\u001b[0;34m\u001b[0m\u001b[0;34m\u001b[0m\u001b[0m\n",
            "\u001b[0;31mImportError\u001b[0m: cannot import name 'TfidVectorizer' from 'sklearn.feature_extraction.text' (/usr/local/lib/python3.7/dist-packages/sklearn/feature_extraction/text.py)",
            "",
            "\u001b[0;31m---------------------------------------------------------------------------\u001b[0;32m\nNOTE: If your import is failing due to a missing package, you can\nmanually install dependencies using either !pip or !apt.\n\nTo view examples of installing some common dependencies, click the\n\"Open Examples\" button below.\n\u001b[0;31m---------------------------------------------------------------------------\u001b[0m\n"
          ],
          "errorDetails": {
            "actions": [
              {
                "action": "open_url",
                "actionText": "Open Examples",
                "url": "/notebooks/snippets/importing_libraries.ipynb"
              }
            ]
          }
        }
      ]
    }
  ]
}