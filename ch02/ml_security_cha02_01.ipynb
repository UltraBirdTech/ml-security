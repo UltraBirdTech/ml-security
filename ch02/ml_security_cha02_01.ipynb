{
  "nbformat": 4,
  "nbformat_minor": 0,
  "metadata": {
    "colab": {
      "name": "ml-security_cha02-01.ipynb",
      "provenance": [],
      "collapsed_sections": []
    },
    "kernelspec": {
      "name": "python3",
      "display_name": "Python 3"
    },
    "language_info": {
      "name": "python"
    },
    "accelerator": "GPU"
  },
  "cells": [
    {
      "cell_type": "code",
      "metadata": {
        "colab": {
          "base_uri": "https://localhost:8080/"
        },
        "id": "1BfwNwSaK2oT",
        "outputId": "3022c64c-5694-41bc-d393-eaac352dc549"
      },
      "source": [
        "from sklearn.linear_model import LogisticRegression\n",
        "from sklearn.metrics import accuracy_score\n",
        "from sklearn.model_selection import train_test_split\n",
        "import numpy as np\n",
        "import optuna\n",
        "from sklearn.model_selection import cross_validate\n",
        "\n",
        "training_data = np.genfromtxt('dataset.csv', delimiter=',', dtype=np.int32)\n",
        "X = training_data[:,:-1]\n",
        "y = training_data[:, -1]\n",
        "\n",
        "X_train, X_test, y_train, y_test = train_test_split(\n",
        "    X, y, test_size=0.2, shuffle=True, random_state=101\n",
        ")\n",
        "\n",
        "classifier = LogisticRegression(solver='lbfgs')\n",
        "classifier.fit(X_train, y_train)\n",
        "predictions = classifier.predict(X_test)\n",
        "\n",
        "accuracy = 100.0 * accuracy_score(y_test, predictions)\n",
        "print(\"The accuracy of your Logistic Regression on testing data is :{}\".format(accuracy))"
      ],
      "execution_count": 15,
      "outputs": [
        {
          "output_type": "stream",
          "name": "stdout",
          "text": [
            "The accuracy of your Logistic Regression on testing data is :92.22071460877432\n"
          ]
        }
      ]
    }
  ]
}